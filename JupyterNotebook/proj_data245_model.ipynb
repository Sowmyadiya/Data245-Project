{
 "cells": [
  {
   "cell_type": "code",
   "execution_count": 1,
   "metadata": {},
   "outputs": [],
   "source": [
    "import pandas as pd\n",
    "import numpy as np\n",
    "import seaborn as sns\n",
    "from matplotlib import pyplot"
   ]
  },
  {
   "cell_type": "code",
   "execution_count": 2,
   "metadata": {},
   "outputs": [],
   "source": [
    "data245_cleaneddata=pd.read_csv(\"https://raw.githubusercontent.com/Sowmyadiya/Data245-Project/master/Datasets/proj_data245_finaldata.csv\")"
   ]
  },
  {
   "cell_type": "code",
   "execution_count": 3,
   "metadata": {},
   "outputs": [],
   "source": [
    "data245_cleaneddata=data245_cleaneddata.drop(['Unnamed: 0'], axis = 1)"
   ]
  },
  {
   "cell_type": "code",
   "execution_count": 4,
   "metadata": {},
   "outputs": [],
   "source": [
    "from sklearn.datasets import load_iris\n",
    "import matplotlib.pyplot as plt \n",
    "from sklearn.tree import DecisionTreeClassifier\n",
    "from sklearn.model_selection import train_test_split, cross_val_score\n",
    "from sklearn.metrics import accuracy_score\n",
    "from sklearn import tree\n",
    "import numpy as np\n",
    "import pandas as pd\n",
    "from sklearn import preprocessing\n",
    "from sklearn import utils"
   ]
  },
  {
   "cell_type": "code",
   "execution_count": 5,
   "metadata": {},
   "outputs": [],
   "source": [
    "final_data = pd.get_dummies(data = data245_cleaneddata, columns = ['company','title',\n",
    "                                                             'tag'])\n",
    "df = final_data.loc[ : , final_data.columns != 'state']\n",
    "\n",
    "target_data=data245_cleaneddata['state']"
   ]
  },
  {
   "cell_type": "code",
   "execution_count": 6,
   "metadata": {},
   "outputs": [
    {
     "name": "stdout",
     "output_type": "stream",
     "text": [
      "Results Using Gini Index:\n",
      "Predicted values:\n",
      "['California' 'Washington' 'California' ... 'Washington' 'Oregon'\n",
      " 'California']\n",
      "Confusion Matrix:  [[   0    0    0 ...    0    0    0]\n",
      " [   0    0    0 ...    0    0    0]\n",
      " [   0    0    0 ...    0    0    0]\n",
      " ...\n",
      " [   0    0    0 ... 3707    0    0]\n",
      " [   0    0    0 ...    0    0    0]\n",
      " [   0    0    0 ...    0    0    0]]\n",
      "Accuracy :  87.85249457700651\n"
     ]
    },
    {
     "name": "stderr",
     "output_type": "stream",
     "text": [
      "/Users/sowmya/opt/anaconda3/lib/python3.8/site-packages/sklearn/metrics/_classification.py:1221: UndefinedMetricWarning: Precision and F-score are ill-defined and being set to 0.0 in labels with no predicted samples. Use `zero_division` parameter to control this behavior.\n",
      "  _warn_prf(average, modifier, msg_start, len(result))\n"
     ]
    },
    {
     "name": "stdout",
     "output_type": "stream",
     "text": [
      "Report :                  precision    recall  f1-score   support\n",
      "\n",
      "       Alabama       0.00      0.00      0.00         7\n",
      "       Arizona       0.00      0.00      0.00       112\n",
      "      Arkansas       0.00      0.00      0.00        37\n",
      "    California       1.00      1.00      1.00      6853\n",
      "      Colorado       0.00      0.00      0.00       159\n",
      "   Connecticut       0.00      0.00      0.00        31\n",
      "      Delaware       0.00      0.00      0.00        20\n",
      "       Florida       1.00      1.00      1.00        72\n",
      "       Georgia       0.32      1.00      0.49       165\n",
      "         Idaho       0.00      0.00      0.00        16\n",
      "      Illinois       0.00      0.00      0.00       241\n",
      "       Indiana       0.00      0.00      0.00        32\n",
      "          Iowa       0.00      0.00      0.00         7\n",
      "        Kansas       0.00      0.00      0.00        11\n",
      "      Kentucky       0.00      0.00      0.00         6\n",
      "     Louisiana       0.00      0.00      0.00         8\n",
      "         Maine       0.00      0.00      0.00         1\n",
      "      Maryland       0.00      0.00      0.00        33\n",
      " Massachusetts       0.43      1.00      0.60       525\n",
      "      Michigan       0.00      0.00      0.00        73\n",
      "     Minnesota       0.00      0.00      0.00        80\n",
      "      Missouri       0.00      0.00      0.00        59\n",
      "       Montana       0.00      0.00      0.00         1\n",
      "      Nebraska       0.00      0.00      0.00         8\n",
      "        Nevada       0.00      0.00      0.00         4\n",
      " New Hampshire       0.00      0.00      0.00        10\n",
      "    New Jersey       0.00      0.00      0.00       143\n",
      "    New Mexico       0.00      0.00      0.00         2\n",
      "      New York       0.70      1.00      0.83      1483\n",
      "North Carolina       0.00      0.00      0.00       144\n",
      "  North Dakota       0.00      0.00      0.00         2\n",
      "          Ohio       0.00      0.00      0.00        70\n",
      "      Oklahoma       0.00      0.00      0.00         2\n",
      "        Oregon       0.44      1.00      0.61       176\n",
      "  Pennsylvania       0.00      0.00      0.00       156\n",
      "  Rhode Island       0.00      0.00      0.00         6\n",
      "South Carolina       0.00      0.00      0.00         8\n",
      "     Tennessee       0.00      0.00      0.00        26\n",
      "         Texas       1.00      1.00      1.00       789\n",
      "          Utah       0.00      0.00      0.00        65\n",
      "       Vermont       0.00      0.00      0.00         6\n",
      "      Virginia       0.00      0.00      0.00       269\n",
      "    Washington       1.00      1.00      1.00      3707\n",
      " West Virginia       0.00      0.00      0.00         3\n",
      "     Wisconsin       0.00      0.00      0.00        46\n",
      "\n",
      "      accuracy                           0.88     15674\n",
      "     macro avg       0.13      0.18      0.14     15674\n",
      "  weighted avg       0.82      0.88      0.84     15674\n",
      "\n",
      "Results Using Entropy:\n",
      "Predicted values:\n",
      "['California' 'Washington' 'California' ... 'Washington' 'Oregon'\n",
      " 'California']\n",
      "Confusion Matrix:  [[   0    0    0 ...    0    0    0]\n",
      " [   0    0    0 ...    0    0    0]\n",
      " [   0    0    0 ...    0    0    0]\n",
      " ...\n",
      " [   0    0    0 ... 3707    0    0]\n",
      " [   0    0    0 ...    0    0    0]\n",
      " [   0    0    0 ...    0    0    0]]\n",
      "Accuracy :  87.85249457700651\n"
     ]
    },
    {
     "name": "stderr",
     "output_type": "stream",
     "text": [
      "/Users/sowmya/opt/anaconda3/lib/python3.8/site-packages/sklearn/metrics/_classification.py:1221: UndefinedMetricWarning: Precision and F-score are ill-defined and being set to 0.0 in labels with no predicted samples. Use `zero_division` parameter to control this behavior.\n",
      "  _warn_prf(average, modifier, msg_start, len(result))\n"
     ]
    },
    {
     "name": "stdout",
     "output_type": "stream",
     "text": [
      "Report :                  precision    recall  f1-score   support\n",
      "\n",
      "       Alabama       0.00      0.00      0.00         7\n",
      "       Arizona       0.00      0.00      0.00       112\n",
      "      Arkansas       0.00      0.00      0.00        37\n",
      "    California       1.00      1.00      1.00      6853\n",
      "      Colorado       0.00      0.00      0.00       159\n",
      "   Connecticut       0.00      0.00      0.00        31\n",
      "      Delaware       0.00      0.00      0.00        20\n",
      "       Florida       1.00      1.00      1.00        72\n",
      "       Georgia       0.32      1.00      0.49       165\n",
      "         Idaho       0.00      0.00      0.00        16\n",
      "      Illinois       0.00      0.00      0.00       241\n",
      "       Indiana       0.00      0.00      0.00        32\n",
      "          Iowa       0.00      0.00      0.00         7\n",
      "        Kansas       0.00      0.00      0.00        11\n",
      "      Kentucky       0.00      0.00      0.00         6\n",
      "     Louisiana       0.00      0.00      0.00         8\n",
      "         Maine       0.00      0.00      0.00         1\n",
      "      Maryland       0.00      0.00      0.00        33\n",
      " Massachusetts       0.43      1.00      0.60       525\n",
      "      Michigan       0.00      0.00      0.00        73\n",
      "     Minnesota       0.00      0.00      0.00        80\n",
      "      Missouri       0.00      0.00      0.00        59\n",
      "       Montana       0.00      0.00      0.00         1\n",
      "      Nebraska       0.00      0.00      0.00         8\n",
      "        Nevada       0.00      0.00      0.00         4\n",
      " New Hampshire       0.00      0.00      0.00        10\n",
      "    New Jersey       0.00      0.00      0.00       143\n",
      "    New Mexico       0.00      0.00      0.00         2\n",
      "      New York       0.70      1.00      0.83      1483\n",
      "North Carolina       0.00      0.00      0.00       144\n",
      "  North Dakota       0.00      0.00      0.00         2\n",
      "          Ohio       0.00      0.00      0.00        70\n",
      "      Oklahoma       0.00      0.00      0.00         2\n",
      "        Oregon       0.44      1.00      0.61       176\n",
      "  Pennsylvania       0.00      0.00      0.00       156\n",
      "  Rhode Island       0.00      0.00      0.00         6\n",
      "South Carolina       0.00      0.00      0.00         8\n",
      "     Tennessee       0.00      0.00      0.00        26\n",
      "         Texas       1.00      1.00      1.00       789\n",
      "          Utah       0.00      0.00      0.00        65\n",
      "       Vermont       0.00      0.00      0.00         6\n",
      "      Virginia       0.00      0.00      0.00       269\n",
      "    Washington       1.00      1.00      1.00      3707\n",
      " West Virginia       0.00      0.00      0.00         3\n",
      "     Wisconsin       0.00      0.00      0.00        46\n",
      "\n",
      "      accuracy                           0.88     15674\n",
      "     macro avg       0.13      0.18      0.14     15674\n",
      "  weighted avg       0.82      0.88      0.84     15674\n",
      "\n"
     ]
    }
   ],
   "source": [
    "# Run this program on your local python\n",
    "# interpreter, provided you have installed\n",
    "# the required libraries.\n",
    "\n",
    "# Importing the required packages\n",
    "import numpy as np\n",
    "import pandas as pd\n",
    "from sklearn.metrics import confusion_matrix\n",
    "from sklearn.model_selection import train_test_split, cross_val_score\n",
    "from sklearn.tree import DecisionTreeClassifier\n",
    "from sklearn.metrics import accuracy_score\n",
    "from sklearn.metrics import classification_report\n",
    "\n",
    "# Function importing Dataset\n",
    "def importdata():\n",
    "\tbalance_data = pd.read_csv(\n",
    "'https://archive.ics.uci.edu/ml/machine-learning-'+\n",
    "'databases/balance-scale/balance-scale.data',\n",
    "\tsep= ',', header = None)\n",
    "\t\n",
    "\t# Printing the dataswet shape\n",
    "\tprint (\"Dataset Length: \", len(balance_data))\n",
    "\tprint (\"Dataset Shape: \", balance_data.shape)\n",
    "\t\n",
    "\t# Printing the dataset obseravtions\n",
    "\tprint (\"Dataset: \",balance_data.head())\n",
    "\treturn balance_data\n",
    "\n",
    "# Function to split the dataset\n",
    "def splitdataset(balance_data):\n",
    "\n",
    "\t# Separating the target variable\n",
    "\tX = balance_data.values[:, 1:5]\n",
    "\tY = balance_data.values[:, 0]\n",
    "\n",
    "\t# Splitting the dataset into train and test\n",
    "\tX_train, X_test, y_train, y_test = train_test_split(\n",
    "\tX, Y, test_size = 0.3, random_state = 100)\n",
    "\t\n",
    "\treturn X, Y, X_train, X_test, y_train, y_test\n",
    "\t\n",
    "# Function to perform training with giniIndex.\n",
    "def train_using_gini(X_train, X_test, y_train):\n",
    "\n",
    "\t# Creating the classifier object\n",
    "\tclf_gini = DecisionTreeClassifier(criterion = \"gini\",\n",
    "\t\t\trandom_state = 100,max_depth=3, min_samples_leaf=5)\n",
    "\n",
    "\t# Performing training\n",
    "\tclf_gini.fit(X_train, y_train)\n",
    "\treturn clf_gini\n",
    "\t\n",
    "# Function to perform training with entropy.\n",
    "def tarin_using_entropy(X_train, X_test, y_train):\n",
    "\n",
    "\t# Decision tree with entropy\n",
    "\tclf_entropy = DecisionTreeClassifier(\n",
    "\t\t\tcriterion = \"entropy\", random_state = 100,\n",
    "\t\t\tmax_depth = 3, min_samples_leaf = 5)\n",
    "\n",
    "\t# Performing training\n",
    "\tclf_entropy.fit(X_train, y_train)\n",
    "\treturn clf_entropy\n",
    "\n",
    "\n",
    "# Function to make predictions\n",
    "def prediction(X_test, clf_object):\n",
    "\n",
    "\t# Predicton on test with giniIndex\n",
    "\ty_pred = clf_object.predict(X_test)\n",
    "\tprint(\"Predicted values:\")\n",
    "\tprint(y_pred)\n",
    "\treturn y_pred\n",
    "\t\n",
    "# Function to calculate accuracy\n",
    "def cal_accuracy(y_test, y_pred):\n",
    "\t\n",
    "\tprint(\"Confusion Matrix: \",\n",
    "\t\tconfusion_matrix(y_test, y_pred))\n",
    "\t\n",
    "\tprint (\"Accuracy : \",\n",
    "\taccuracy_score(y_test,y_pred)*100)\n",
    "\t\n",
    "\tprint(\"Report : \",\n",
    "\tclassification_report(y_test, y_pred))\n",
    "\n",
    "# Driver code\n",
    "def main():\n",
    "\t\n",
    "\t# Building Phase\n",
    "\t#data = importdata()\n",
    "\tY = target_data\n",
    "\tX = df\n",
    "\tX_train, X_test, y_train, y_test = train_test_split(X,Y,test_size=0.30,random_state=42)\n",
    "\tclf_gini = train_using_gini(X_train, X_test, y_train)\n",
    "\tclf_entropy = tarin_using_entropy(X_train, X_test, y_train)\n",
    "\t\n",
    "\t# Operational Phase\n",
    "\tprint(\"Results Using Gini Index:\")\n",
    "\t\n",
    "\t# Prediction using gini\n",
    "\ty_pred_gini = prediction(X_test, clf_gini)\n",
    "\tcal_accuracy(y_test, y_pred_gini)\n",
    "\t\n",
    "\tprint(\"Results Using Entropy:\")\n",
    "\t# Prediction using entropy\n",
    "\ty_pred_entropy = prediction(X_test, clf_entropy)\n",
    "\tcal_accuracy(y_test, y_pred_entropy)\n",
    "\t\n",
    "\t\n",
    "# Calling main function\n",
    "if __name__==\"__main__\":\n",
    "\tmain()"
   ]
  },
  {
   "cell_type": "code",
   "execution_count": 7,
   "metadata": {},
   "outputs": [
    {
     "data": {
      "text/plain": [
       "19949    California\n",
       "22859    California\n",
       "17930    California\n",
       "10458    California\n",
       "41775    Washington\n",
       "            ...    \n",
       "11284    California\n",
       "44732    Washington\n",
       "38158         Texas\n",
       "860      California\n",
       "15795    California\n",
       "Name: state, Length: 36572, dtype: object"
      ]
     },
     "execution_count": 7,
     "metadata": {},
     "output_type": "execute_result"
    }
   ],
   "source": [
    "X = df\n",
    "\n",
    "Xtrain,Xtest,Ytrain,Ytest = train_test_split(X,target_data,test_size=0.30,random_state=42)\n",
    "Ytrain"
   ]
  },
  {
   "cell_type": "code",
   "execution_count": 8,
   "metadata": {},
   "outputs": [
    {
     "name": "stdout",
     "output_type": "stream",
     "text": [
      "0.8200842158989409\n"
     ]
    },
    {
     "data": {
      "text/plain": [
       "array(['California', 'Washington', 'California', ..., 'Washington',\n",
       "       'Washington', 'California'], dtype=object)"
      ]
     },
     "execution_count": 8,
     "metadata": {},
     "output_type": "execute_result"
    }
   ],
   "source": [
    "from sklearn.ensemble import RandomForestClassifier\n",
    "from sklearn.metrics import roc_curve,auc\n",
    "\n",
    "rnd_clf = RandomForestClassifier(n_estimators=16, max_leaf_nodes=60, random_state=70,criterion='gini')\n",
    "rnd_clf.fit(Xtrain, Ytrain)\n",
    "\n",
    "y_pred_rf = rnd_clf.predict(Xtest)\n",
    "print(accuracy_score(Ytest, y_pred_rf))\n",
    "y_pred_rf"
   ]
  },
  {
   "cell_type": "code",
   "execution_count": 9,
   "metadata": {},
   "outputs": [],
   "source": [
    "import pickle\n",
    "pickle_out=open(\"RandomForest_data245.pkl\",\"wb\")\n",
    "pickle.dump(rnd_clf,pickle_out)\n",
    "pickle_out.close()"
   ]
  },
  {
   "cell_type": "code",
   "execution_count": null,
   "metadata": {},
   "outputs": [],
   "source": []
  }
 ],
 "metadata": {
  "kernelspec": {
   "display_name": "Python 3",
   "language": "python",
   "name": "python3"
  },
  "language_info": {
   "codemirror_mode": {
    "name": "ipython",
    "version": 3
   },
   "file_extension": ".py",
   "mimetype": "text/x-python",
   "name": "python",
   "nbconvert_exporter": "python",
   "pygments_lexer": "ipython3",
   "version": "3.8.5"
  }
 },
 "nbformat": 4,
 "nbformat_minor": 4
}
