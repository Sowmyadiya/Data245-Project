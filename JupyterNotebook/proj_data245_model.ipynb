{
 "cells": [
  {
   "cell_type": "code",
   "execution_count": 1,
   "metadata": {},
   "outputs": [],
   "source": [
    "import pandas as pd\n",
    "import numpy as np\n",
    "import seaborn as sns\n",
    "from matplotlib import pyplot"
   ]
  },
  {
   "cell_type": "code",
   "execution_count": 2,
   "metadata": {},
   "outputs": [
    {
     "data": {
      "text/html": [
       "<div>\n",
       "<style scoped>\n",
       "    .dataframe tbody tr th:only-of-type {\n",
       "        vertical-align: middle;\n",
       "    }\n",
       "\n",
       "    .dataframe tbody tr th {\n",
       "        vertical-align: top;\n",
       "    }\n",
       "\n",
       "    .dataframe thead th {\n",
       "        text-align: right;\n",
       "    }\n",
       "</style>\n",
       "<table border=\"1\" class=\"dataframe\">\n",
       "  <thead>\n",
       "    <tr style=\"text-align: right;\">\n",
       "      <th></th>\n",
       "      <th>Unnamed: 0</th>\n",
       "      <th>state</th>\n",
       "      <th>job_opportunity_rank</th>\n",
       "      <th>affordability</th>\n",
       "      <th>economy</th>\n",
       "      <th>education and health</th>\n",
       "      <th>quality of life</th>\n",
       "      <th>safety</th>\n",
       "      <th>Climate</th>\n",
       "      <th>title</th>\n",
       "      <th>totalyearlycompensation</th>\n",
       "      <th>yearsofexperience</th>\n",
       "      <th>tag</th>\n",
       "      <th>Education</th>\n",
       "    </tr>\n",
       "  </thead>\n",
       "  <tbody>\n",
       "    <tr>\n",
       "      <th>0</th>\n",
       "      <td>0</td>\n",
       "      <td>Alabama</td>\n",
       "      <td>2</td>\n",
       "      <td>0</td>\n",
       "      <td>3</td>\n",
       "      <td>4</td>\n",
       "      <td>4</td>\n",
       "      <td>4</td>\n",
       "      <td>0</td>\n",
       "      <td>Software Engineer</td>\n",
       "      <td>84000</td>\n",
       "      <td>3.0</td>\n",
       "      <td>Full Stack</td>\n",
       "      <td>-1.0</td>\n",
       "    </tr>\n",
       "    <tr>\n",
       "      <th>1</th>\n",
       "      <td>1</td>\n",
       "      <td>Alabama</td>\n",
       "      <td>2</td>\n",
       "      <td>0</td>\n",
       "      <td>3</td>\n",
       "      <td>4</td>\n",
       "      <td>4</td>\n",
       "      <td>4</td>\n",
       "      <td>0</td>\n",
       "      <td>Software Engineer</td>\n",
       "      <td>70000</td>\n",
       "      <td>2.0</td>\n",
       "      <td>Full Stack</td>\n",
       "      <td>-1.0</td>\n",
       "    </tr>\n",
       "    <tr>\n",
       "      <th>2</th>\n",
       "      <td>2</td>\n",
       "      <td>Alabama</td>\n",
       "      <td>2</td>\n",
       "      <td>0</td>\n",
       "      <td>3</td>\n",
       "      <td>4</td>\n",
       "      <td>4</td>\n",
       "      <td>4</td>\n",
       "      <td>0</td>\n",
       "      <td>Software Engineer</td>\n",
       "      <td>112000</td>\n",
       "      <td>5.0</td>\n",
       "      <td>Linux Kernel</td>\n",
       "      <td>1.0</td>\n",
       "    </tr>\n",
       "    <tr>\n",
       "      <th>3</th>\n",
       "      <td>3</td>\n",
       "      <td>Alabama</td>\n",
       "      <td>2</td>\n",
       "      <td>0</td>\n",
       "      <td>3</td>\n",
       "      <td>4</td>\n",
       "      <td>4</td>\n",
       "      <td>4</td>\n",
       "      <td>0</td>\n",
       "      <td>Software Engineer</td>\n",
       "      <td>71000</td>\n",
       "      <td>2.0</td>\n",
       "      <td>Full Stack</td>\n",
       "      <td>-1.0</td>\n",
       "    </tr>\n",
       "    <tr>\n",
       "      <th>4</th>\n",
       "      <td>4</td>\n",
       "      <td>Alabama</td>\n",
       "      <td>2</td>\n",
       "      <td>0</td>\n",
       "      <td>3</td>\n",
       "      <td>4</td>\n",
       "      <td>4</td>\n",
       "      <td>4</td>\n",
       "      <td>0</td>\n",
       "      <td>Software Engineer</td>\n",
       "      <td>84000</td>\n",
       "      <td>2.0</td>\n",
       "      <td>Full Stack</td>\n",
       "      <td>-1.0</td>\n",
       "    </tr>\n",
       "    <tr>\n",
       "      <th>...</th>\n",
       "      <td>...</td>\n",
       "      <td>...</td>\n",
       "      <td>...</td>\n",
       "      <td>...</td>\n",
       "      <td>...</td>\n",
       "      <td>...</td>\n",
       "      <td>...</td>\n",
       "      <td>...</td>\n",
       "      <td>...</td>\n",
       "      <td>...</td>\n",
       "      <td>...</td>\n",
       "      <td>...</td>\n",
       "      <td>...</td>\n",
       "      <td>...</td>\n",
       "    </tr>\n",
       "    <tr>\n",
       "      <th>52241</th>\n",
       "      <td>52241</td>\n",
       "      <td>Wisconsin</td>\n",
       "      <td>1</td>\n",
       "      <td>3</td>\n",
       "      <td>1</td>\n",
       "      <td>0</td>\n",
       "      <td>0</td>\n",
       "      <td>0</td>\n",
       "      <td>4</td>\n",
       "      <td>Software Engineer</td>\n",
       "      <td>105000</td>\n",
       "      <td>0.0</td>\n",
       "      <td>Full Stack</td>\n",
       "      <td>-1.0</td>\n",
       "    </tr>\n",
       "    <tr>\n",
       "      <th>52242</th>\n",
       "      <td>52242</td>\n",
       "      <td>Wisconsin</td>\n",
       "      <td>1</td>\n",
       "      <td>3</td>\n",
       "      <td>1</td>\n",
       "      <td>0</td>\n",
       "      <td>0</td>\n",
       "      <td>0</td>\n",
       "      <td>4</td>\n",
       "      <td>Software Engineer</td>\n",
       "      <td>115000</td>\n",
       "      <td>2.0</td>\n",
       "      <td>Full Stack</td>\n",
       "      <td>-1.0</td>\n",
       "    </tr>\n",
       "    <tr>\n",
       "      <th>52243</th>\n",
       "      <td>52243</td>\n",
       "      <td>Wisconsin</td>\n",
       "      <td>1</td>\n",
       "      <td>3</td>\n",
       "      <td>1</td>\n",
       "      <td>0</td>\n",
       "      <td>0</td>\n",
       "      <td>0</td>\n",
       "      <td>4</td>\n",
       "      <td>Software Engineer</td>\n",
       "      <td>115000</td>\n",
       "      <td>0.0</td>\n",
       "      <td>Full Stack</td>\n",
       "      <td>-1.0</td>\n",
       "    </tr>\n",
       "    <tr>\n",
       "      <th>52244</th>\n",
       "      <td>52244</td>\n",
       "      <td>Wisconsin</td>\n",
       "      <td>1</td>\n",
       "      <td>3</td>\n",
       "      <td>1</td>\n",
       "      <td>0</td>\n",
       "      <td>0</td>\n",
       "      <td>0</td>\n",
       "      <td>4</td>\n",
       "      <td>Software Engineer</td>\n",
       "      <td>188000</td>\n",
       "      <td>8.0</td>\n",
       "      <td>Cloud</td>\n",
       "      <td>-1.0</td>\n",
       "    </tr>\n",
       "    <tr>\n",
       "      <th>52245</th>\n",
       "      <td>52245</td>\n",
       "      <td>Wyoming</td>\n",
       "      <td>4</td>\n",
       "      <td>1</td>\n",
       "      <td>2</td>\n",
       "      <td>2</td>\n",
       "      <td>3</td>\n",
       "      <td>0</td>\n",
       "      <td>4</td>\n",
       "      <td>Software Engineer</td>\n",
       "      <td>156000</td>\n",
       "      <td>7.0</td>\n",
       "      <td>Distributed Systems (Back-End)</td>\n",
       "      <td>1.0</td>\n",
       "    </tr>\n",
       "  </tbody>\n",
       "</table>\n",
       "<p>52246 rows × 14 columns</p>\n",
       "</div>"
      ],
      "text/plain": [
       "       Unnamed: 0      state  job_opportunity_rank  affordability  economy  \\\n",
       "0               0    Alabama                     2              0        3   \n",
       "1               1    Alabama                     2              0        3   \n",
       "2               2    Alabama                     2              0        3   \n",
       "3               3    Alabama                     2              0        3   \n",
       "4               4    Alabama                     2              0        3   \n",
       "...           ...        ...                   ...            ...      ...   \n",
       "52241       52241  Wisconsin                     1              3        1   \n",
       "52242       52242  Wisconsin                     1              3        1   \n",
       "52243       52243  Wisconsin                     1              3        1   \n",
       "52244       52244  Wisconsin                     1              3        1   \n",
       "52245       52245    Wyoming                     4              1        2   \n",
       "\n",
       "       education and health  quality of life  safety  Climate  \\\n",
       "0                         4                4       4        0   \n",
       "1                         4                4       4        0   \n",
       "2                         4                4       4        0   \n",
       "3                         4                4       4        0   \n",
       "4                         4                4       4        0   \n",
       "...                     ...              ...     ...      ...   \n",
       "52241                     0                0       0        4   \n",
       "52242                     0                0       0        4   \n",
       "52243                     0                0       0        4   \n",
       "52244                     0                0       0        4   \n",
       "52245                     2                3       0        4   \n",
       "\n",
       "                   title  totalyearlycompensation  yearsofexperience  \\\n",
       "0      Software Engineer                    84000                3.0   \n",
       "1      Software Engineer                    70000                2.0   \n",
       "2      Software Engineer                   112000                5.0   \n",
       "3      Software Engineer                    71000                2.0   \n",
       "4      Software Engineer                    84000                2.0   \n",
       "...                  ...                      ...                ...   \n",
       "52241  Software Engineer                   105000                0.0   \n",
       "52242  Software Engineer                   115000                2.0   \n",
       "52243  Software Engineer                   115000                0.0   \n",
       "52244  Software Engineer                   188000                8.0   \n",
       "52245  Software Engineer                   156000                7.0   \n",
       "\n",
       "                                  tag  Education  \n",
       "0                          Full Stack       -1.0  \n",
       "1                          Full Stack       -1.0  \n",
       "2                        Linux Kernel        1.0  \n",
       "3                          Full Stack       -1.0  \n",
       "4                          Full Stack       -1.0  \n",
       "...                               ...        ...  \n",
       "52241                      Full Stack       -1.0  \n",
       "52242                      Full Stack       -1.0  \n",
       "52243                      Full Stack       -1.0  \n",
       "52244                           Cloud       -1.0  \n",
       "52245  Distributed Systems (Back-End)        1.0  \n",
       "\n",
       "[52246 rows x 14 columns]"
      ]
     },
     "execution_count": 2,
     "metadata": {},
     "output_type": "execute_result"
    }
   ],
   "source": [
    "data245_cleaneddata=pd.read_csv(\"https://raw.githubusercontent.com/Sowmyadiya/Data245-Project/master/Datasets/proj_data245_testing.csv\")\n",
    "# data245_cleaneddata=pd.read_csv(\"sowmyatesting.csv\")\n",
    "data245_cleaneddata"
   ]
  },
  {
   "cell_type": "code",
   "execution_count": 3,
   "metadata": {},
   "outputs": [],
   "source": [
    "from sklearn.datasets import load_iris\n",
    "import matplotlib.pyplot as plt \n",
    "from sklearn.tree import DecisionTreeClassifier\n",
    "from sklearn.model_selection import train_test_split, cross_val_score\n",
    "from sklearn.metrics import accuracy_score\n",
    "from sklearn import tree\n",
    "import numpy as np\n",
    "import pandas as pd\n",
    "from sklearn import preprocessing\n",
    "from sklearn import utils"
   ]
  },
  {
   "cell_type": "code",
   "execution_count": 4,
   "metadata": {},
   "outputs": [],
   "source": [
    "final_data = pd.get_dummies(data = data245_cleaneddata, columns = ['title',\n",
    "                                                             'tag'])\n",
    "df = final_data.loc[ : , final_data.columns != 'state']\n",
    "\n",
    "target_data=data245_cleaneddata['state']\n",
    "X = df"
   ]
  },
  {
   "cell_type": "code",
   "execution_count": 5,
   "metadata": {},
   "outputs": [
    {
     "data": {
      "text/plain": [
       "(52246, 2672)"
      ]
     },
     "execution_count": 5,
     "metadata": {},
     "output_type": "execute_result"
    }
   ],
   "source": [
    "df.shape"
   ]
  },
  {
   "cell_type": "code",
   "execution_count": 6,
   "metadata": {},
   "outputs": [
    {
     "data": {
      "text/plain": [
       "Text(0, 0.5, 'cumulative explained variance')"
      ]
     },
     "execution_count": 6,
     "metadata": {},
     "output_type": "execute_result"
    },
    {
     "data": {
      "image/png": "[encoded data removed]",
      "text/plain": [
       "<Figure size 1440x360 with 1 Axes>"
      ]
     },
     "metadata": {
      "needs_background": "light"
     },
     "output_type": "display_data"
    }
   ],
   "source": [
    "from sklearn.decomposition import PCA\n",
    "%matplotlib inline\n",
    "import matplotlib.pyplot as plt\n",
    "plt.rcParams[\"figure.figsize\"] = (20,5)\n",
    "pca = PCA().fit(X)\n",
    "plt.plot(np.cumsum(pca.explained_variance_ratio_))\n",
    "plt.xlabel('number of components')\n",
    "plt.ylabel('cumulative explained variance')"
   ]
  },
  {
   "cell_type": "code",
   "execution_count": 7,
   "metadata": {},
   "outputs": [
    {
     "data": {
      "text/plain": [
       "PCA(n_components=50, random_state=11)"
      ]
     },
     "execution_count": 7,
     "metadata": {},
     "output_type": "execute_result"
    }
   ],
   "source": [
    "pca = PCA(n_components=50, random_state=11)  # reduce to two components\n",
    "pca.fit(X)"
   ]
  },
  {
   "cell_type": "code",
   "execution_count": 8,
   "metadata": {},
   "outputs": [
    {
     "data": {
      "text/plain": [
       "(52246, 50)"
      ]
     },
     "execution_count": 8,
     "metadata": {},
     "output_type": "execute_result"
    }
   ],
   "source": [
    "data = pca.transform(X)\n",
    "data=pd.DataFrame(data)\n",
    "data.shape"
   ]
  },
  {
   "cell_type": "code",
   "execution_count": 9,
   "metadata": {},
   "outputs": [
    {
     "data": {
      "text/plain": [
       "19949    California\n",
       "22859    California\n",
       "17930    California\n",
       "10458    California\n",
       "41775    Washington\n",
       "            ...    \n",
       "11284    California\n",
       "44732    Washington\n",
       "38158         Texas\n",
       "860      California\n",
       "15795    California\n",
       "Name: state, Length: 36572, dtype: object"
      ]
     },
     "execution_count": 9,
     "metadata": {},
     "output_type": "execute_result"
    }
   ],
   "source": [
    "Xtrain,Xtest,Ytrain,Ytest = train_test_split(data,target_data,test_size=0.30,random_state=42)\n",
    "Ytrain"
   ]
  },
  {
   "cell_type": "code",
   "execution_count": 10,
   "metadata": {},
   "outputs": [
    {
     "name": "stdout",
     "output_type": "stream",
     "text": [
      "Results Using Gini Index:\n",
      "Predicted values:\n",
      "['California' 'Washington' 'California' ... 'Washington' 'Texas'\n",
      " 'California']\n",
      "Confusion Matrix:  [[   0    0    7 ...    0    0    0]\n",
      " [   0  112    0 ...    0    0    0]\n",
      " [   0    0   37 ...    0    0    0]\n",
      " ...\n",
      " [   0    0    0 ... 3706    0    0]\n",
      " [   0    0    0 ...    0    0    3]\n",
      " [   0    0    0 ...    0    0   46]]\n",
      "Accuracy :  83.10578027306367\n"
     ]
    },
    {
     "name": "stderr",
     "output_type": "stream",
     "text": [
      "/Users/sowmya/opt/anaconda3/lib/python3.8/site-packages/sklearn/metrics/_classification.py:1221: UndefinedMetricWarning: Precision and F-score are ill-defined and being set to 0.0 in labels with no predicted samples. Use `zero_division` parameter to control this behavior.\n",
      "  _warn_prf(average, modifier, msg_start, len(result))\n"
     ]
    },
    {
     "name": "stdout",
     "output_type": "stream",
     "text": [
      "Report :                  precision    recall  f1-score   support\n",
      "\n",
      "       Alabama       0.00      0.00      0.00         7\n",
      "       Arizona       1.00      1.00      1.00       112\n",
      "      Arkansas       0.84      1.00      0.91        37\n",
      "    California       1.00      1.00      1.00      6853\n",
      "      Colorado       0.00      0.00      0.00       159\n",
      "   Connecticut       0.00      0.00      0.00        31\n",
      "      Delaware       0.00      0.00      0.00        20\n",
      "       Florida       0.00      0.00      0.00        72\n",
      "       Georgia       0.00      0.00      0.00       165\n",
      "         Idaho       0.00      0.00      0.00        16\n",
      "      Illinois       0.00      0.00      0.00       241\n",
      "       Indiana       0.00      0.00      0.00        32\n",
      "          Iowa       0.00      0.00      0.00         7\n",
      "        Kansas       0.00      0.00      0.00        11\n",
      "      Kentucky       0.00      0.00      0.00         6\n",
      "     Louisiana       0.00      0.00      0.00         8\n",
      "         Maine       0.00      0.00      0.00         1\n",
      "      Maryland       0.00      0.00      0.00        33\n",
      " Massachusetts       0.00      0.00      0.00       525\n",
      "      Michigan       0.00      0.00      0.00        73\n",
      "     Minnesota       0.00      0.00      0.00        80\n",
      "      Missouri       0.00      0.00      0.00        59\n",
      "       Montana       0.00      0.00      0.00         1\n",
      "      Nebraska       0.00      0.00      0.00         8\n",
      "        Nevada       0.00      0.00      0.00         4\n",
      " New Hampshire       0.00      0.00      0.00        10\n",
      "    New Jersey       0.00      0.00      0.00       143\n",
      "    New Mexico       0.00      0.00      0.00         2\n",
      "      New York       0.65      1.00      0.79      1483\n",
      "North Carolina       0.00      0.00      0.00       144\n",
      "  North Dakota       0.00      0.00      0.00         2\n",
      "          Ohio       0.00      0.00      0.00        70\n",
      "      Oklahoma       0.00      0.00      0.00         2\n",
      "        Oregon       0.00      0.00      0.00       176\n",
      "  Pennsylvania       0.00      0.00      0.00       156\n",
      "  Rhode Island       0.00      0.00      0.00         6\n",
      "South Carolina       0.00      0.00      0.00         8\n",
      "     Tennessee       0.00      0.00      0.00        26\n",
      "         Texas       0.30      1.00      0.46       789\n",
      "          Utah       0.00      0.00      0.00        65\n",
      "       Vermont       0.00      0.00      0.00         6\n",
      "      Virginia       0.00      0.00      0.00       269\n",
      "    Washington       1.00      1.00      1.00      3707\n",
      " West Virginia       0.00      0.00      0.00         3\n",
      "     Wisconsin       0.94      1.00      0.97        46\n",
      "\n",
      "      accuracy                           0.83     15674\n",
      "     macro avg       0.13      0.16      0.14     15674\n",
      "  weighted avg       0.76      0.83      0.78     15674\n",
      "\n",
      "Results Using Entropy:\n",
      "Predicted values:\n",
      "['California' 'Washington' 'California' ... 'Washington' 'Illinois'\n",
      " 'California']\n",
      "Confusion Matrix:  [[   0    0    0 ...    0    0    0]\n",
      " [   0    0    0 ...    0    0    0]\n",
      " [   0    0    0 ...    0    0    0]\n",
      " ...\n",
      " [   0    0    0 ... 3707    0    0]\n",
      " [   0    0    0 ...    0    0    0]\n",
      " [   0    0    0 ...    0    0    0]]\n",
      "Accuracy :  85.77899706520353\n"
     ]
    },
    {
     "name": "stderr",
     "output_type": "stream",
     "text": [
      "/Users/sowmya/opt/anaconda3/lib/python3.8/site-packages/sklearn/metrics/_classification.py:1221: UndefinedMetricWarning: Precision and F-score are ill-defined and being set to 0.0 in labels with no predicted samples. Use `zero_division` parameter to control this behavior.\n",
      "  _warn_prf(average, modifier, msg_start, len(result))\n"
     ]
    },
    {
     "name": "stdout",
     "output_type": "stream",
     "text": [
      "Report :                  precision    recall  f1-score   support\n",
      "\n",
      "       Alabama       0.00      0.00      0.00         7\n",
      "       Arizona       0.00      0.00      0.00       112\n",
      "      Arkansas       0.00      0.00      0.00        37\n",
      "    California       1.00      1.00      1.00      6853\n",
      "      Colorado       0.00      0.00      0.00       159\n",
      "   Connecticut       1.00      1.00      1.00        31\n",
      "      Delaware       0.00      0.00      0.00        20\n",
      "       Florida       0.00      0.00      0.00        72\n",
      "       Georgia       0.35      1.00      0.52       165\n",
      "         Idaho       0.00      0.00      0.00        16\n",
      "      Illinois       0.59      1.00      0.74       241\n",
      "       Indiana       0.00      0.00      0.00        32\n",
      "          Iowa       0.00      0.00      0.00         7\n",
      "        Kansas       0.00      0.00      0.00        11\n",
      "      Kentucky       0.00      0.00      0.00         6\n",
      "     Louisiana       0.00      0.00      0.00         8\n",
      "         Maine       0.00      0.00      0.00         1\n",
      "      Maryland       0.00      0.00      0.00        33\n",
      " Massachusetts       0.00      0.00      0.00       525\n",
      "      Michigan       0.00      0.00      0.00        73\n",
      "     Minnesota       0.00      0.00      0.00        80\n",
      "      Missouri       0.00      0.00      0.00        59\n",
      "       Montana       0.00      0.00      0.00         1\n",
      "      Nebraska       0.00      0.00      0.00         8\n",
      "        Nevada       0.00      0.00      0.00         4\n",
      " New Hampshire       0.00      0.00      0.00        10\n",
      "    New Jersey       0.00      0.00      0.00       143\n",
      "    New Mexico       0.00      0.00      0.00         2\n",
      "      New York       0.70      1.00      0.82      1483\n",
      "North Carolina       0.00      0.00      0.00       144\n",
      "  North Dakota       0.00      0.00      0.00         2\n",
      "          Ohio       0.00      0.00      0.00        70\n",
      "      Oklahoma       0.00      0.00      0.00         2\n",
      "        Oregon       0.64      1.00      0.78       176\n",
      "  Pennsylvania       0.00      0.00      0.00       156\n",
      "  Rhode Island       0.00      0.00      0.00         6\n",
      "South Carolina       0.00      0.00      0.00         8\n",
      "     Tennessee       0.00      0.00      0.00        26\n",
      "         Texas       0.44      1.00      0.61       789\n",
      "          Utah       0.00      0.00      0.00        65\n",
      "       Vermont       0.00      0.00      0.00         6\n",
      "      Virginia       0.00      0.00      0.00       269\n",
      "    Washington       1.00      1.00      1.00      3707\n",
      " West Virginia       0.00      0.00      0.00         3\n",
      "     Wisconsin       0.00      0.00      0.00        46\n",
      "\n",
      "      accuracy                           0.86     15674\n",
      "     macro avg       0.13      0.18      0.14     15674\n",
      "  weighted avg       0.78      0.86      0.81     15674\n",
      "\n"
     ]
    }
   ],
   "source": [
    "# Run this program on your local python\n",
    "# interpreter, provided you have installed\n",
    "# the required libraries.\n",
    "\n",
    "# Importing the required packages\n",
    "import numpy as np\n",
    "import pandas as pd\n",
    "from sklearn.metrics import confusion_matrix\n",
    "from sklearn.model_selection import train_test_split, cross_val_score\n",
    "from sklearn.tree import DecisionTreeClassifier\n",
    "from sklearn.metrics import accuracy_score\n",
    "from sklearn.metrics import classification_report\n",
    "\n",
    "# Function importing Dataset\n",
    "def importdata():\n",
    "\tbalance_data = pd.read_csv(\n",
    "'https://archive.ics.uci.edu/ml/machine-learning-'+\n",
    "'databases/balance-scale/balance-scale.data',\n",
    "\tsep= ',', header = None)\n",
    "\t\n",
    "\t# Printing the dataswet shape\n",
    "\tprint (\"Dataset Length: \", len(balance_data))\n",
    "\tprint (\"Dataset Shape: \", balance_data.shape)\n",
    "\t\n",
    "\t# Printing the dataset obseravtions\n",
    "\tprint (\"Dataset: \",balance_data.head())\n",
    "\treturn balance_data\n",
    "\n",
    "# Function to split the dataset\n",
    "def splitdataset(balance_data):\n",
    "\n",
    "\t# Separating the target variable\n",
    "\tX = balance_data.values[:, 1:5]\n",
    "\tY = balance_data.values[:, 0]\n",
    "\n",
    "\t# Splitting the dataset into train and test\n",
    "\tX_train, X_test, y_train, y_test = train_test_split(\n",
    "\tX, Y, test_size = 0.3, random_state = 100)\n",
    "\t\n",
    "\treturn X, Y, X_train, X_test, y_train, y_test\n",
    "\t\n",
    "# Function to perform training with giniIndex.\n",
    "def train_using_gini(X_train, X_test, y_train):\n",
    "\n",
    "\t# Creating the classifier object\n",
    "\tclf_gini = DecisionTreeClassifier(criterion = \"gini\",\n",
    "\t\t\trandom_state = 100,max_depth=3, min_samples_leaf=5)\n",
    "\n",
    "\t# Performing training\n",
    "\tclf_gini.fit(X_train, y_train)\n",
    "\treturn clf_gini\n",
    "\t\n",
    "# Function to perform training with entropy.\n",
    "def tarin_using_entropy(X_train, X_test, y_train):\n",
    "\n",
    "\t# Decision tree with entropy\n",
    "\tclf_entropy = DecisionTreeClassifier(\n",
    "\t\t\tcriterion = \"entropy\", random_state = 100,\n",
    "\t\t\tmax_depth = 3, min_samples_leaf = 5)\n",
    "\n",
    "\t# Performing training\n",
    "\tclf_entropy.fit(X_train, y_train)\n",
    "\treturn clf_entropy\n",
    "\n",
    "\n",
    "# Function to make predictions\n",
    "def prediction(X_test, clf_object):\n",
    "\n",
    "\t# Predicton on test with giniIndex\n",
    "\ty_pred = clf_object.predict(X_test)\n",
    "\tprint(\"Predicted values:\")\n",
    "\tprint(y_pred)\n",
    "\treturn y_pred\n",
    "\t\n",
    "# Function to calculate accuracy\n",
    "def cal_accuracy(y_test, y_pred):\n",
    "\t\n",
    "\tprint(\"Confusion Matrix: \",\n",
    "\t\tconfusion_matrix(y_test, y_pred))\n",
    "\t\n",
    "\tprint (\"Accuracy : \",\n",
    "\taccuracy_score(y_test,y_pred)*100)\n",
    "\t\n",
    "\tprint(\"Report : \",\n",
    "\tclassification_report(y_test, y_pred))\n",
    "\n",
    "# Driver code\n",
    "def main():\n",
    "\t\n",
    "\t# Building Phase\n",
    "\t#data = importdata()\n",
    "\tY = target_data\n",
    "\tX = df\n",
    "\tX_train, X_test, y_train, y_test = train_test_split(X,Y,test_size=0.30,random_state=42)\n",
    "\tclf_gini = train_using_gini(X_train, X_test, y_train)\n",
    "\tclf_entropy = tarin_using_entropy(X_train, X_test, y_train)\n",
    "# \tpickle_out=open(\"DecisionTree_data245.pkl\",\"wb\")\n",
    "# \tpickle.dump(clf_entropy,pickle_out)\n",
    "# \tpickle_out.close()\n",
    "\t\n",
    "\t# Operational Phase\n",
    "\tprint(\"Results Using Gini Index:\")\n",
    "\t\n",
    "\t# Prediction using gini\n",
    "\ty_pred_gini = prediction(X_test, clf_gini)\n",
    "\tcal_accuracy(y_test, y_pred_gini)\n",
    "\t\n",
    "\tprint(\"Results Using Entropy:\")\n",
    "\t# Prediction using entropy\n",
    "\ty_pred_entropy = prediction(X_test, clf_entropy)\n",
    "\tcal_accuracy(y_test, y_pred_entropy)\n",
    "\t\n",
    "\t\n",
    "# Calling main function\n",
    "if __name__==\"__main__\":\n",
    "\tmain()"
   ]
  },
  {
   "cell_type": "code",
   "execution_count": 11,
   "metadata": {},
   "outputs": [
    {
     "name": "stdout",
     "output_type": "stream",
     "text": [
      "0.9924078091106291\n"
     ]
    },
    {
     "data": {
      "text/plain": [
       "array(['California', 'Washington', 'California', ..., 'Washington',\n",
       "       'Colorado', 'California'], dtype=object)"
      ]
     },
     "execution_count": 11,
     "metadata": {},
     "output_type": "execute_result"
    }
   ],
   "source": [
    "from sklearn.ensemble import RandomForestClassifier\n",
    "from sklearn.metrics import roc_curve,auc\n",
    "\n",
    "rnd_clf = RandomForestClassifier(n_estimators=16, max_leaf_nodes=60, random_state=70,criterion='gini')\n",
    "rnd_clf.fit(Xtrain, Ytrain)\n",
    "\n",
    "y_pred_rf = rnd_clf.predict(Xtest)\n",
    "print(accuracy_score(Ytest, y_pred_rf))\n",
    "y_pred_rf"
   ]
  },
  {
   "cell_type": "code",
   "execution_count": 12,
   "metadata": {},
   "outputs": [],
   "source": [
    "import pickle\n",
    "pickle_out=open(\"RandomForest_data245.pkl\",\"wb\")\n",
    "pickle.dump(rnd_clf,pickle_out)\n",
    "pickle_out.close()"
   ]
  },
  {
   "cell_type": "code",
   "execution_count": 13,
   "metadata": {},
   "outputs": [
    {
     "data": {
      "text/plain": [
       "array(['Arizona', 'Arkansas', 'California', 'Colorado', 'Connecticut',\n",
       "       'Delaware', 'Florida', 'Georgia', 'Idaho', 'Illinois', 'Indiana',\n",
       "       'Iowa', 'Maryland', 'Massachusetts', 'Michigan', 'Minnesota',\n",
       "       'Missouri', 'Nevada', 'New Hampshire', 'New Jersey', 'New York',\n",
       "       'North Carolina', 'Ohio', 'Oklahoma', 'Oregon', 'Pennsylvania',\n",
       "       'Tennessee', 'Texas', 'Utah', 'Virginia', 'Washington',\n",
       "       'Wisconsin'], dtype=object)"
      ]
     },
     "execution_count": 13,
     "metadata": {},
     "output_type": "execute_result"
    }
   ],
   "source": [
    "import numpy as np\n",
    "np.unique(y_pred_rf)"
   ]
  },
  {
   "cell_type": "code",
   "execution_count": 14,
   "metadata": {},
   "outputs": [],
   "source": [
    "from numpy import loadtxt\n",
    "from xgboost import XGBClassifier\n",
    "from sklearn.model_selection import train_test_split\n",
    "from sklearn.metrics import accuracy_score\n",
    "from sklearn.metrics import classification_report, confusion_matrix\n",
    "from pandas import DataFrame\n",
    "from sklearn.decomposition import PCA"
   ]
  },
  {
   "cell_type": "code",
   "execution_count": null,
   "metadata": {},
   "outputs": [],
   "source": []
  },
  {
   "cell_type": "code",
   "execution_count": 15,
   "metadata": {},
   "outputs": [
    {
     "name": "stderr",
     "output_type": "stream",
     "text": [
      "/Users/sowmya/opt/anaconda3/lib/python3.8/site-packages/xgboost/sklearn.py:1224: UserWarning: The use of label encoder in XGBClassifier is deprecated and will be removed in a future release. To remove this warning, do the following: 1) Pass option use_label_encoder=False when constructing XGBClassifier object; and 2) Encode your labels (y) as integers starting with 0, i.e. 0, 1, 2, ..., [num_class - 1].\n",
      "  warnings.warn(label_encoder_deprecation_msg, UserWarning)\n"
     ]
    },
    {
     "name": "stdout",
     "output_type": "stream",
     "text": [
      "[16:07:32] WARNING: /Users/travis/build/dmlc/xgboost/src/learner.cc:1115: Starting in XGBoost 1.3.0, the default evaluation metric used with the objective 'multi:softprob' was changed from 'merror' to 'mlogloss'. Explicitly set eval_metric if you'd like to restore the old behavior.\n",
      "0.9988516013780784\n"
     ]
    },
    {
     "data": {
      "text/plain": [
       "array(['California', 'Washington', 'California', ..., 'Washington',\n",
       "       'Colorado', 'California'], dtype=object)"
      ]
     },
     "execution_count": 15,
     "metadata": {},
     "output_type": "execute_result"
    }
   ],
   "source": [
    "# fit model no training data\n",
    "XGB_clf = XGBClassifier()\n",
    "XGB_clf.fit(Xtrain, Ytrain)\n",
    "# make predictions for test data\n",
    "y_pred_XG = XGB_clf.predict(Xtest)\n",
    "print(accuracy_score(Ytest, y_pred_XG))\n",
    "y_pred_XG"
   ]
  },
  {
   "cell_type": "code",
   "execution_count": 16,
   "metadata": {},
   "outputs": [
    {
     "data": {
      "text/plain": [
       "array(['Alabama', 'Arizona', 'Arkansas', 'California', 'Colorado',\n",
       "       'Connecticut', 'Delaware', 'Florida', 'Georgia', 'Idaho',\n",
       "       'Illinois', 'Indiana', 'Iowa', 'Kansas', 'Kentucky', 'Louisiana',\n",
       "       'Maine', 'Maryland', 'Massachusetts', 'Michigan', 'Minnesota',\n",
       "       'Missouri', 'Montana', 'Nebraska', 'Nevada', 'New Hampshire',\n",
       "       'New Jersey', 'New Mexico', 'New York', 'North Carolina', 'Ohio',\n",
       "       'Oklahoma', 'Oregon', 'Pennsylvania', 'Rhode Island',\n",
       "       'South Carolina', 'Tennessee', 'Texas', 'Utah', 'Vermont',\n",
       "       'Virginia', 'Washington', 'West Virginia', 'Wisconsin'],\n",
       "      dtype=object)"
      ]
     },
     "execution_count": 16,
     "metadata": {},
     "output_type": "execute_result"
    }
   ],
   "source": [
    "np.unique(y_pred_XG)"
   ]
  },
  {
   "cell_type": "code",
   "execution_count": 21,
   "metadata": {},
   "outputs": [],
   "source": [
    "import pickle\n",
    "pickle_out=open(\"s_XGBoost_data245.pkl\",\"wb\")\n",
    "pickle.dump(XGB_clf,pickle_out)\n",
    "pickle_out.close()"
   ]
  },
  {
   "cell_type": "code",
   "execution_count": 20,
   "metadata": {},
   "outputs": [
    {
     "name": "stderr",
     "output_type": "stream",
     "text": [
      "/Users/sowmya/opt/anaconda3/lib/python3.8/site-packages/sklearn/model_selection/_split.py:670: UserWarning: The least populated class in y has only 1 members, which is less than n_splits=10.\n",
      "  warnings.warn((\"The least populated class in y has only %d\"\n",
      "/Users/sowmya/opt/anaconda3/lib/python3.8/site-packages/xgboost/sklearn.py:1224: UserWarning: The use of label encoder in XGBClassifier is deprecated and will be removed in a future release. To remove this warning, do the following: 1) Pass option use_label_encoder=False when constructing XGBClassifier object; and 2) Encode your labels (y) as integers starting with 0, i.e. 0, 1, 2, ..., [num_class - 1].\n",
      "  warnings.warn(label_encoder_deprecation_msg, UserWarning)\n"
     ]
    },
    {
     "name": "stdout",
     "output_type": "stream",
     "text": [
      "[16:10:27] WARNING: /Users/travis/build/dmlc/xgboost/src/learner.cc:1115: Starting in XGBoost 1.3.0, the default evaluation metric used with the objective 'multi:softprob' was changed from 'merror' to 'mlogloss'. Explicitly set eval_metric if you'd like to restore the old behavior.\n",
      "Fold:  1, Training/Test Split Distribution: , Accuracy: 0.999\n",
      "[16:11:25] WARNING: /Users/travis/build/dmlc/xgboost/src/learner.cc:1115: Starting in XGBoost 1.3.0, the default evaluation metric used with the objective 'multi:softprob' was changed from 'merror' to 'mlogloss'. Explicitly set eval_metric if you'd like to restore the old behavior.\n",
      "Fold:  2, Training/Test Split Distribution: , Accuracy: 1.000\n",
      "[16:12:19] WARNING: /Users/travis/build/dmlc/xgboost/src/learner.cc:1115: Starting in XGBoost 1.3.0, the default evaluation metric used with the objective 'multi:softprob' was changed from 'merror' to 'mlogloss'. Explicitly set eval_metric if you'd like to restore the old behavior.\n",
      "Fold:  3, Training/Test Split Distribution: , Accuracy: 0.999\n",
      "[16:13:16] WARNING: /Users/travis/build/dmlc/xgboost/src/learner.cc:1115: Starting in XGBoost 1.3.0, the default evaluation metric used with the objective 'multi:softprob' was changed from 'merror' to 'mlogloss'. Explicitly set eval_metric if you'd like to restore the old behavior.\n",
      "Fold:  4, Training/Test Split Distribution: , Accuracy: 0.999\n",
      "[16:14:12] WARNING: /Users/travis/build/dmlc/xgboost/src/learner.cc:1115: Starting in XGBoost 1.3.0, the default evaluation metric used with the objective 'multi:softprob' was changed from 'merror' to 'mlogloss'. Explicitly set eval_metric if you'd like to restore the old behavior.\n",
      "Fold:  5, Training/Test Split Distribution: , Accuracy: 0.999\n",
      "[16:15:20] WARNING: /Users/travis/build/dmlc/xgboost/src/learner.cc:1115: Starting in XGBoost 1.3.0, the default evaluation metric used with the objective 'multi:softprob' was changed from 'merror' to 'mlogloss'. Explicitly set eval_metric if you'd like to restore the old behavior.\n",
      "Fold:  6, Training/Test Split Distribution: , Accuracy: 0.998\n",
      "[16:16:21] WARNING: /Users/travis/build/dmlc/xgboost/src/learner.cc:1115: Starting in XGBoost 1.3.0, the default evaluation metric used with the objective 'multi:softprob' was changed from 'merror' to 'mlogloss'. Explicitly set eval_metric if you'd like to restore the old behavior.\n",
      "Fold:  7, Training/Test Split Distribution: , Accuracy: 0.999\n",
      "[16:17:20] WARNING: /Users/travis/build/dmlc/xgboost/src/learner.cc:1115: Starting in XGBoost 1.3.0, the default evaluation metric used with the objective 'multi:softprob' was changed from 'merror' to 'mlogloss'. Explicitly set eval_metric if you'd like to restore the old behavior.\n",
      "Fold:  8, Training/Test Split Distribution: , Accuracy: 0.999\n",
      "[16:18:25] WARNING: /Users/travis/build/dmlc/xgboost/src/learner.cc:1115: Starting in XGBoost 1.3.0, the default evaluation metric used with the objective 'multi:softprob' was changed from 'merror' to 'mlogloss'. Explicitly set eval_metric if you'd like to restore the old behavior.\n",
      "Fold:  9, Training/Test Split Distribution: , Accuracy: 1.000\n",
      "[16:19:24] WARNING: /Users/travis/build/dmlc/xgboost/src/learner.cc:1115: Starting in XGBoost 1.3.0, the default evaluation metric used with the objective 'multi:softprob' was changed from 'merror' to 'mlogloss'. Explicitly set eval_metric if you'd like to restore the old behavior.\n",
      "Fold: 10, Training/Test Split Distribution: , Accuracy: 0.999\n",
      "\n",
      "\n",
      "Cross-Validation accuracy: 0.999 +/- 0.000\n"
     ]
    }
   ],
   "source": [
    "from sklearn.model_selection import cross_val_score\n",
    "from sklearn.pipeline import make_pipeline\n",
    "from sklearn.preprocessing import StandardScaler\n",
    "from sklearn.svm import SVC\n",
    "from sklearn.ensemble import RandomForestClassifier\n",
    "from sklearn.model_selection import StratifiedKFold\n",
    "#\n",
    "# Create an instance of Pipeline\n",
    "#\n",
    "pipeline = make_pipeline(XGBClassifier())\n",
    "#Xtrain,Xtest,Ytrain,Ytest\n",
    "# Create an instance of StratifiedKFold which can be used to get indices of different training and test folds\n",
    "#\n",
    "strtfdKFold = StratifiedKFold(n_splits=10)\n",
    "kfold = strtfdKFold.split(Xtrain, Ytrain)\n",
    "scores = []\n",
    "#\n",
    "#\n",
    "#\n",
    "for k, (train, test) in enumerate(kfold):\n",
    "    pipeline.fit(Xtrain.iloc[train, :], Ytrain.iloc[train])\n",
    "    score = pipeline.score(Xtrain.iloc[test, :], Ytrain.iloc[test])\n",
    "    scores.append(score)\n",
    "    print('Fold: %2d, Training/Test Split Distribution: , Accuracy: %.3f' % (k+1, score))\n",
    " \n",
    "print('\\n\\nCross-Validation accuracy: %.3f +/- %.3f' %(np.mean(scores), np.std(scores)))"
   ]
  },
  {
   "cell_type": "code",
   "execution_count": 23,
   "metadata": {},
   "outputs": [
    {
     "name": "stdout",
     "output_type": "stream",
     "text": [
      "Collecting git+https://github.com/slundberg/shap.git\n",
      "  Cloning https://github.com/slundberg/shap.git to /private/var/folders/gf/7qz7pmws6zl3cxyfck9n1j7m0000gn/T/pip-req-build-yhirmgzg\n",
      "  Running command git clone --filter=blob:none -q https://github.com/slundberg/shap.git /private/var/folders/gf/7qz7pmws6zl3cxyfck9n1j7m0000gn/T/pip-req-build-yhirmgzg\n",
      "  Resolved https://github.com/slundberg/shap.git to commit 429fb3e0ac2ef179f1cff7e1a64b4f7b26f41eb5\n",
      "  Installing build dependencies ... \u001b[?25ldone\n",
      "\u001b[?25h  Getting requirements to build wheel ... \u001b[?25ldone\n",
      "\u001b[?25h  Preparing wheel metadata (pyproject.toml) ... \u001b[?25ldone\n",
      "\u001b[?25hCollecting packaging>20.9\n",
      "  Downloading packaging-21.2-py3-none-any.whl (40 kB)\n",
      "     |████████████████████████████████| 40 kB 2.7 MB/s             \n",
      "\u001b[?25hRequirement already satisfied: numpy in /Users/sowmya/opt/anaconda3/lib/python3.8/site-packages (from shap==0.40.0) (1.19.2)\n",
      "Requirement already satisfied: numba in /Users/sowmya/opt/anaconda3/lib/python3.8/site-packages (from shap==0.40.0) (0.51.2)\n",
      "Requirement already satisfied: scipy in /Users/sowmya/opt/anaconda3/lib/python3.8/site-packages (from shap==0.40.0) (1.5.2)\n",
      "Requirement already satisfied: tqdm>4.25.0 in /Users/sowmya/opt/anaconda3/lib/python3.8/site-packages (from shap==0.40.0) (4.50.2)\n",
      "Requirement already satisfied: scikit-learn in /Users/sowmya/opt/anaconda3/lib/python3.8/site-packages (from shap==0.40.0) (0.23.2)\n",
      "Collecting slicer==0.0.7\n",
      "  Downloading slicer-0.0.7-py3-none-any.whl (14 kB)\n",
      "Requirement already satisfied: cloudpickle in /Users/sowmya/opt/anaconda3/lib/python3.8/site-packages (from shap==0.40.0) (1.6.0)\n",
      "Requirement already satisfied: pandas in /Users/sowmya/opt/anaconda3/lib/python3.8/site-packages (from shap==0.40.0) (1.1.3)\n",
      "Requirement already satisfied: pyparsing<3,>=2.0.2 in /Users/sowmya/opt/anaconda3/lib/python3.8/site-packages (from packaging>20.9->shap==0.40.0) (2.4.7)\n",
      "Requirement already satisfied: setuptools in /Users/sowmya/opt/anaconda3/lib/python3.8/site-packages (from numba->shap==0.40.0) (50.3.1.post20201107)\n",
      "Requirement already satisfied: llvmlite<0.35,>=0.34.0.dev0 in /Users/sowmya/opt/anaconda3/lib/python3.8/site-packages (from numba->shap==0.40.0) (0.34.0)\n",
      "Requirement already satisfied: python-dateutil>=2.7.3 in /Users/sowmya/opt/anaconda3/lib/python3.8/site-packages (from pandas->shap==0.40.0) (2.8.1)\n",
      "Requirement already satisfied: pytz>=2017.2 in /Users/sowmya/opt/anaconda3/lib/python3.8/site-packages (from pandas->shap==0.40.0) (2020.1)\n",
      "Requirement already satisfied: joblib>=0.11 in /Users/sowmya/opt/anaconda3/lib/python3.8/site-packages (from scikit-learn->shap==0.40.0) (0.17.0)\n",
      "Requirement already satisfied: threadpoolctl>=2.0.0 in /Users/sowmya/opt/anaconda3/lib/python3.8/site-packages (from scikit-learn->shap==0.40.0) (2.1.0)\n",
      "Requirement already satisfied: six>=1.5 in /Users/sowmya/opt/anaconda3/lib/python3.8/site-packages (from python-dateutil>=2.7.3->pandas->shap==0.40.0) (1.15.0)\n",
      "Building wheels for collected packages: shap\n",
      "  Building wheel for shap (pyproject.toml) ... \u001b[?25ldone\n",
      "\u001b[?25h  Created wheel for shap: filename=shap-0.40.0-cp38-cp38-macosx_10_9_x86_64.whl size=433628 sha256=89eb0ca9763ee0d8c57390e338a48bc49e6d0ef863e09e9db0ea5dbb9d13126a\n",
      "  Stored in directory: /private/var/folders/gf/7qz7pmws6zl3cxyfck9n1j7m0000gn/T/pip-ephem-wheel-cache-6e_p4qpb/wheels/43/d4/b7/852c8c4711da053ae2ad230f1a8b270ca2ad3fc26ab00b1a03\n",
      "Successfully built shap\n",
      "Installing collected packages: slicer, packaging, shap\n",
      "  Attempting uninstall: packaging\n",
      "    Found existing installation: packaging 20.4\n",
      "    Uninstalling packaging-20.4:\n",
      "      Successfully uninstalled packaging-20.4\n",
      "Successfully installed packaging-21.2 shap-0.40.0 slicer-0.0.7\n",
      "\u001b[33mWARNING: You are using pip version 21.3; however, version 21.3.1 is available.\n",
      "You should consider upgrading via the '/Users/sowmya/opt/anaconda3/bin/python -m pip install --upgrade pip' command.\u001b[0m\n",
      "Note: you may need to restart the kernel to use updated packages.\n"
     ]
    }
   ],
   "source": [
    "pip install git+https://github.com/slundberg/shap.git"
   ]
  },
  {
   "cell_type": "code",
   "execution_count": null,
   "metadata": {},
   "outputs": [],
   "source": []
  },
  {
   "cell_type": "code",
   "execution_count": null,
   "metadata": {},
   "outputs": [],
   "source": []
  },
  {
   "cell_type": "code",
   "execution_count": null,
   "metadata": {},
   "outputs": [],
   "source": [
    "  \n"
   ]
  },
  {
   "cell_type": "code",
   "execution_count": null,
   "metadata": {},
   "outputs": [],
   "source": []
  },
  {
   "cell_type": "code",
   "execution_count": null,
   "metadata": {},
   "outputs": [],
   "source": []
  },
  {
   "cell_type": "code",
   "execution_count": null,
   "metadata": {},
   "outputs": [],
   "source": []
  },
  {
   "cell_type": "code",
   "execution_count": null,
   "metadata": {},
   "outputs": [],
   "source": []
  },
  {
   "cell_type": "code",
   "execution_count": null,
   "metadata": {},
   "outputs": [],
   "source": [
    "# clf = svm.SVC(kernel='linear') # Linear Kernel\n",
    "\n",
    "# #Train the model using the training sets\n",
    "# clf.fit(X_train_pca, Ytrain)\n",
    "\n",
    "# #Predict the response for test dataset\n",
    "# y_pred_rf = clf.predict(X_test_pca)\n",
    "# print(accuracy_score(Ytest, y_pred_rf))\n",
    "# y_pred_rf"
   ]
  },
  {
   "cell_type": "code",
   "execution_count": null,
   "metadata": {},
   "outputs": [],
   "source": [
    "# from sklearn.ensemble import AdaBoostClassifier\n",
    "\n",
    "# ada_clf = AdaBoostClassifier(n_estimators=4,\n",
    "#      learning_rate=0.5)\n",
    "# ada_clf.fit(Xtrain, Ytrain)\n",
    "# y_pred = ada_clf.predict(Xtest)\n",
    "# print(accuracy_score(Ytest, y_pred))\n",
    "# np.unique(y_pred)"
   ]
  }
 ],
 "metadata": {
  "kernelspec": {
   "display_name": "Python 3",
   "language": "python",
   "name": "python3"
  },
  "language_info": {
   "codemirror_mode": {
    "name": "ipython",
    "version": 3
   },
   "file_extension": ".py",
   "mimetype": "text/x-python",
   "name": "python",
   "nbconvert_exporter": "python",
   "pygments_lexer": "ipython3",
   "version": "3.8.5"
  }
 },
 "nbformat": 4,
 "nbformat_minor": 4
}
